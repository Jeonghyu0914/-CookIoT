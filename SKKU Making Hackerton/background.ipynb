{
 "cells": [
  {
   "cell_type": "code",
   "execution_count": 1,
   "metadata": {},
   "outputs": [
    {
     "name": "stdout",
     "output_type": "stream",
     "text": [
      "(1000, 5)\n"
     ]
    },
    {
     "data": {
      "text/html": [
       "<div>\n",
       "<style scoped>\n",
       "    .dataframe tbody tr th:only-of-type {\n",
       "        vertical-align: middle;\n",
       "    }\n",
       "\n",
       "    .dataframe tbody tr th {\n",
       "        vertical-align: top;\n",
       "    }\n",
       "\n",
       "    .dataframe thead th {\n",
       "        text-align: right;\n",
       "    }\n",
       "</style>\n",
       "<table border=\"1\" class=\"dataframe\">\n",
       "  <thead>\n",
       "    <tr style=\"text-align: right;\">\n",
       "      <th></th>\n",
       "      <th>artist_name</th>\n",
       "      <th>track_name</th>\n",
       "      <th>track_id</th>\n",
       "      <th>track_popularity</th>\n",
       "      <th>artist_id</th>\n",
       "    </tr>\n",
       "  </thead>\n",
       "  <tbody>\n",
       "    <tr>\n",
       "      <th>0</th>\n",
       "      <td>Morgan Wallen</td>\n",
       "      <td>Wasted On You</td>\n",
       "      <td>3cBsEDNhFI9E82vPj3kvi3</td>\n",
       "      <td>83</td>\n",
       "      <td>4oUHIQIBe0LHzYfvXNW4QM</td>\n",
       "    </tr>\n",
       "    <tr>\n",
       "      <th>1</th>\n",
       "      <td>Jordan Davis</td>\n",
       "      <td>Buy Dirt</td>\n",
       "      <td>69AIpwGNLxr4qS1X5ynx60</td>\n",
       "      <td>81</td>\n",
       "      <td>77kULmXAQ6vWer7IIHdGzI</td>\n",
       "    </tr>\n",
       "    <tr>\n",
       "      <th>2</th>\n",
       "      <td>Morgan Wallen</td>\n",
       "      <td>More Than My Hometown</td>\n",
       "      <td>5OELUCYgOHKFAvCERnAvfS</td>\n",
       "      <td>79</td>\n",
       "      <td>4oUHIQIBe0LHzYfvXNW4QM</td>\n",
       "    </tr>\n",
       "    <tr>\n",
       "      <th>3</th>\n",
       "      <td>Tory Lanez</td>\n",
       "      <td>The Color Violet</td>\n",
       "      <td>3azJifCSqg9fRij2yKIbWz</td>\n",
       "      <td>84</td>\n",
       "      <td>2jku7tDXc6XoB6MO2hFuqg</td>\n",
       "    </tr>\n",
       "    <tr>\n",
       "      <th>4</th>\n",
       "      <td>Morgan Wallen</td>\n",
       "      <td>7 Summers</td>\n",
       "      <td>4obHzpwGrjoTuZh2DItEMZ</td>\n",
       "      <td>78</td>\n",
       "      <td>4oUHIQIBe0LHzYfvXNW4QM</td>\n",
       "    </tr>\n",
       "  </tbody>\n",
       "</table>\n",
       "</div>"
      ],
      "text/plain": [
       "     artist_name             track_name                track_id  \\\n",
       "0  Morgan Wallen          Wasted On You  3cBsEDNhFI9E82vPj3kvi3   \n",
       "1   Jordan Davis               Buy Dirt  69AIpwGNLxr4qS1X5ynx60   \n",
       "2  Morgan Wallen  More Than My Hometown  5OELUCYgOHKFAvCERnAvfS   \n",
       "3     Tory Lanez       The Color Violet  3azJifCSqg9fRij2yKIbWz   \n",
       "4  Morgan Wallen              7 Summers  4obHzpwGrjoTuZh2DItEMZ   \n",
       "\n",
       "   track_popularity               artist_id  \n",
       "0                83  4oUHIQIBe0LHzYfvXNW4QM  \n",
       "1                81  77kULmXAQ6vWer7IIHdGzI  \n",
       "2                79  4oUHIQIBe0LHzYfvXNW4QM  \n",
       "3                84  2jku7tDXc6XoB6MO2hFuqg  \n",
       "4                78  4oUHIQIBe0LHzYfvXNW4QM  "
      ]
     },
     "execution_count": 1,
     "metadata": {},
     "output_type": "execute_result"
    }
   ],
   "source": [
    "import spotipy\n",
    "from spotipy.oauth2 import SpotifyClientCredentials\n",
    "client_credentials_manager = SpotifyClientCredentials(client_id='3004c52d307a4ba2904f4037aa30c9fe', client_secret='44b6d83514de4c52a5b0d53ed4042f9f')\n",
    "sp = spotipy.Spotify(client_credentials_manager=client_credentials_manager)\n",
    "\n",
    "artist_name =[]\n",
    "track_name = []\n",
    "track_popularity =[]\n",
    "artist_id =[]\n",
    "track_id =[]\n",
    "for i in range(0,1000,50):\n",
    "    track_results = sp.search(q='year:2021', type='track', limit=50, offset=i)\n",
    "    for i, t in enumerate(track_results['tracks']['items']):\n",
    "        artist_name.append(t['artists'][0]['name'])\n",
    "        artist_id.append(t['artists'][0]['id'])\n",
    "        track_name.append(t['name'])\n",
    "        track_id.append(t['id'])\n",
    "        track_popularity.append(t['popularity'])\n",
    "\n",
    "import pandas as pd\n",
    "track_df = pd.DataFrame({'artist_name' : artist_name, 'track_name' : track_name, 'track_id' : track_id, 'track_popularity' : track_popularity, 'artist_id' : artist_id})\n",
    "print(track_df.shape)\n",
    "track_df.head()"
   ]
  }
 ],
 "metadata": {
  "kernelspec": {
   "display_name": "KMH",
   "language": "python",
   "name": "python3"
  },
  "language_info": {
   "codemirror_mode": {
    "name": "ipython",
    "version": 3
   },
   "file_extension": ".py",
   "mimetype": "text/x-python",
   "name": "python",
   "nbconvert_exporter": "python",
   "pygments_lexer": "ipython3",
   "version": "3.10.14"
  }
 },
 "nbformat": 4,
 "nbformat_minor": 2
}
